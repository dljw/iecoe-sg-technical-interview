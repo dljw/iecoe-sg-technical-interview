{
 "cells": [
  {
   "cell_type": "code",
   "execution_count": 294,
   "metadata": {},
   "outputs": [],
   "source": [
    "import pandas as pd\n",
    "pd.set_option('display.max_colwidth', 0)\n",
    "import numpy as np"
   ]
  },
  {
   "cell_type": "markdown",
   "metadata": {},
   "source": [
    "Loading and understanding Dataset"
   ]
  },
  {
   "cell_type": "code",
   "execution_count": 295,
   "metadata": {},
   "outputs": [],
   "source": [
    "df_cases = pd.read_pickle('df_cases_200906.gzip')\n",
    "df_label = pd.read_pickle('df_label_200906.gzip')"
   ]
  },
  {
   "cell_type": "code",
   "execution_count": 296,
   "metadata": {},
   "outputs": [
    {
     "name": "stdout",
     "output_type": "stream",
     "text": [
      "(2069, 8) (1098, 3)\n"
     ]
    }
   ],
   "source": [
    "print(df_cases.shape,df_label.shape)"
   ]
  },
  {
   "cell_type": "code",
   "execution_count": 297,
   "metadata": {},
   "outputs": [
    {
     "data": {
      "text/html": [
       "<div>\n",
       "<style scoped>\n",
       "    .dataframe tbody tr th:only-of-type {\n",
       "        vertical-align: middle;\n",
       "    }\n",
       "\n",
       "    .dataframe tbody tr th {\n",
       "        vertical-align: top;\n",
       "    }\n",
       "\n",
       "    .dataframe thead th {\n",
       "        text-align: right;\n",
       "    }\n",
       "</style>\n",
       "<table border=\"1\" class=\"dataframe\">\n",
       "  <thead>\n",
       "    <tr style=\"text-align: right;\">\n",
       "      <th></th>\n",
       "      <th>CaseId</th>\n",
       "      <th>FileName</th>\n",
       "      <th>Language</th>\n",
       "      <th>StartDate</th>\n",
       "      <th>DocumentType</th>\n",
       "      <th>IsExecuted</th>\n",
       "      <th>OcrText</th>\n",
       "      <th>QualityScore</th>\n",
       "    </tr>\n",
       "  </thead>\n",
       "  <tbody>\n",
       "    <tr>\n",
       "      <th>0</th>\n",
       "      <td>003061226227</td>\n",
       "      <td>003061226227_12045631_Order form_978-1-67767-388-9.pdf</td>\n",
       "      <td>EN</td>\n",
       "      <td>20191104</td>\n",
       "      <td>Order form</td>\n",
       "      <td>False</td>\n",
       "      <td>Pressure style response character.</td>\n",
       "      <td>0.649292</td>\n",
       "    </tr>\n",
       "    <tr>\n",
       "      <th>1</th>\n",
       "      <td>003061226383</td>\n",
       "      <td>003061226383_63912371_Contract Info Pack_978-0-394-16412-0.pdf</td>\n",
       "      <td>EN</td>\n",
       "      <td>20190805</td>\n",
       "      <td>Contract Info Pack</td>\n",
       "      <td>False</td>\n",
       "      <td>Soon especially boy thousand traditional.</td>\n",
       "      <td>0.873038</td>\n",
       "    </tr>\n",
       "    <tr>\n",
       "      <th>2</th>\n",
       "      <td>003061226383</td>\n",
       "      <td>003061226383_41775424_other documents_978-1-388-73116-8.pdf</td>\n",
       "      <td>EN</td>\n",
       "      <td>20190805</td>\n",
       "      <td>other documents</td>\n",
       "      <td>True</td>\n",
       "      <td>Tax south say strategy hard between late.</td>\n",
       "      <td>0.991280</td>\n",
       "    </tr>\n",
       "    <tr>\n",
       "      <th>3</th>\n",
       "      <td>003061227777</td>\n",
       "      <td>003061227777_96463321_other documents_978-1-960601-99-5.pdf</td>\n",
       "      <td>EN</td>\n",
       "      <td>20191231</td>\n",
       "      <td>other documents</td>\n",
       "      <td>False</td>\n",
       "      <td>Yet arm six design.</td>\n",
       "      <td>0.607833</td>\n",
       "    </tr>\n",
       "    <tr>\n",
       "      <th>4</th>\n",
       "      <td>003061227781</td>\n",
       "      <td>003061227781_62201704_other documents_978-1-04-652792-8.pdf</td>\n",
       "      <td>EN</td>\n",
       "      <td>20191231</td>\n",
       "      <td>other documents</td>\n",
       "      <td>False</td>\n",
       "      <td>Plan camera actually run push rest.</td>\n",
       "      <td>0.909359</td>\n",
       "    </tr>\n",
       "  </tbody>\n",
       "</table>\n",
       "</div>"
      ],
      "text/plain": [
       "         CaseId  \\\n",
       "0  003061226227   \n",
       "1  003061226383   \n",
       "2  003061226383   \n",
       "3  003061227777   \n",
       "4  003061227781   \n",
       "\n",
       "                                                         FileName Language  \\\n",
       "0  003061226227_12045631_Order form_978-1-67767-388-9.pdf          EN        \n",
       "1  003061226383_63912371_Contract Info Pack_978-0-394-16412-0.pdf  EN        \n",
       "2  003061226383_41775424_other documents_978-1-388-73116-8.pdf     EN        \n",
       "3  003061227777_96463321_other documents_978-1-960601-99-5.pdf     EN        \n",
       "4  003061227781_62201704_other documents_978-1-04-652792-8.pdf     EN        \n",
       "\n",
       "  StartDate        DocumentType IsExecuted  \\\n",
       "0  20191104  Order form          False       \n",
       "1  20190805  Contract Info Pack  False       \n",
       "2  20190805  other documents     True        \n",
       "3  20191231  other documents     False       \n",
       "4  20191231  other documents     False       \n",
       "\n",
       "                                     OcrText  QualityScore  \n",
       "0  Pressure style response character.         0.649292      \n",
       "1  Soon especially boy thousand traditional.  0.873038      \n",
       "2  Tax south say strategy hard between late.  0.991280      \n",
       "3  Yet arm six design.                        0.607833      \n",
       "4  Plan camera actually run push rest.        0.909359      "
      ]
     },
     "execution_count": 297,
     "metadata": {},
     "output_type": "execute_result"
    }
   ],
   "source": [
    "df_cases.head()"
   ]
  },
  {
   "cell_type": "code",
   "execution_count": 298,
   "metadata": {},
   "outputs": [
    {
     "data": {
      "text/html": [
       "<div>\n",
       "<style scoped>\n",
       "    .dataframe tbody tr th:only-of-type {\n",
       "        vertical-align: middle;\n",
       "    }\n",
       "\n",
       "    .dataframe tbody tr th {\n",
       "        vertical-align: top;\n",
       "    }\n",
       "\n",
       "    .dataframe thead th {\n",
       "        text-align: right;\n",
       "    }\n",
       "</style>\n",
       "<table border=\"1\" class=\"dataframe\">\n",
       "  <thead>\n",
       "    <tr style=\"text-align: right;\">\n",
       "      <th></th>\n",
       "      <th>CaseId</th>\n",
       "      <th>label_1</th>\n",
       "      <th>label_2</th>\n",
       "    </tr>\n",
       "  </thead>\n",
       "  <tbody>\n",
       "    <tr>\n",
       "      <th>0</th>\n",
       "      <td>003061226227</td>\n",
       "      <td>False</td>\n",
       "      <td>False</td>\n",
       "    </tr>\n",
       "    <tr>\n",
       "      <th>1</th>\n",
       "      <td>003061226383</td>\n",
       "      <td>True</td>\n",
       "      <td>False</td>\n",
       "    </tr>\n",
       "    <tr>\n",
       "      <th>2</th>\n",
       "      <td>003061227777</td>\n",
       "      <td>False</td>\n",
       "      <td>False</td>\n",
       "    </tr>\n",
       "    <tr>\n",
       "      <th>3</th>\n",
       "      <td>003061227781</td>\n",
       "      <td>False</td>\n",
       "      <td>False</td>\n",
       "    </tr>\n",
       "    <tr>\n",
       "      <th>4</th>\n",
       "      <td>003061227680</td>\n",
       "      <td>True</td>\n",
       "      <td>True</td>\n",
       "    </tr>\n",
       "  </tbody>\n",
       "</table>\n",
       "</div>"
      ],
      "text/plain": [
       "         CaseId label_1 label_2\n",
       "0  003061226227  False   False \n",
       "1  003061226383  True    False \n",
       "2  003061227777  False   False \n",
       "3  003061227781  False   False \n",
       "4  003061227680  True    True  "
      ]
     },
     "execution_count": 298,
     "metadata": {},
     "output_type": "execute_result"
    }
   ],
   "source": [
    "df_label.head()"
   ]
  },
  {
   "cell_type": "code",
   "execution_count": 299,
   "metadata": {},
   "outputs": [],
   "source": [
    "df_cases_copy = df_cases.copy()\n",
    "df_label_copy = df_label.copy()"
   ]
  },
  {
   "cell_type": "code",
   "execution_count": 300,
   "metadata": {},
   "outputs": [
    {
     "data": {
      "text/plain": [
       "(1098,)"
      ]
     },
     "execution_count": 300,
     "metadata": {},
     "output_type": "execute_result"
    }
   ],
   "source": [
    "df_cases_copy.CaseId.unique().shape"
   ]
  },
  {
   "cell_type": "markdown",
   "metadata": {},
   "source": [
    "Labeling each cases to determine if it is vaild or invaild. \n",
    "It is invalid if ANY of the following condition is occurs:\n",
    "    1) IsExecuted == False\n",
    "    2) QualityScore <0.81"
   ]
  },
  {
   "cell_type": "code",
   "execution_count": 301,
   "metadata": {},
   "outputs": [],
   "source": [
    "def checkValidity(row):\n",
    "    if(row['IsExecuted'] == False):\n",
    "        return \"invalid\"\n",
    "    if(row['QualityScore'] < 0.81):\n",
    "        return \"invalid\"\n",
    "    return \"valid\""
   ]
  },
  {
   "cell_type": "code",
   "execution_count": 302,
   "metadata": {},
   "outputs": [],
   "source": [
    "df_cases_copy['Validity'] = df_cases_copy.apply(checkValidity,axis=1)"
   ]
  },
  {
   "cell_type": "code",
   "execution_count": 303,
   "metadata": {},
   "outputs": [
    {
     "data": {
      "text/plain": [
       "invalid    1389\n",
       "valid      680 \n",
       "Name: Validity, dtype: int64"
      ]
     },
     "execution_count": 303,
     "metadata": {},
     "output_type": "execute_result"
    }
   ],
   "source": [
    "df_cases_copy.Validity.value_counts()"
   ]
  },
  {
   "cell_type": "code",
   "execution_count": 304,
   "metadata": {},
   "outputs": [],
   "source": [
    "df_final = pd.DataFrame(columns=['CaseId','InvalidFileNames','ValidFileNames','OcrText'])"
   ]
  },
  {
   "cell_type": "code",
   "execution_count": 305,
   "metadata": {},
   "outputs": [],
   "source": [
    "## Concatenting the file name according to caseId and Validity\n",
    "grouped_fileName_df = df_cases_copy.groupby(['CaseId','Validity'])[['FileName']].agg(lambda x: [', '.join(x)]).unstack().reset_index()\n",
    "\n",
    "\n",
    "df_final['CaseId'] = grouped_fileName_df['CaseId']\n",
    "df_final['ValidFileNames'] = grouped_fileName_df['FileName','valid'].fillna(\"[]\")\n",
    "df_final['InvalidFileNames'] = grouped_fileName_df['FileName','invalid'].fillna(\"[]\")\n",
    "\n",
    "grouped_OcrText_df =  df_cases_copy.groupby(['CaseId','Validity'])[['Validity','OcrText']].agg(lambda x: ' '.join(x)).unstack().reset_index()\n",
    "df_final['OcrText'] = grouped_OcrText_df['OcrText','valid'].fillna(' ')"
   ]
  },
  {
   "cell_type": "code",
   "execution_count": 306,
   "metadata": {},
   "outputs": [
    {
     "data": {
      "text/html": [
       "<div>\n",
       "<style scoped>\n",
       "    .dataframe tbody tr th:only-of-type {\n",
       "        vertical-align: middle;\n",
       "    }\n",
       "\n",
       "    .dataframe tbody tr th {\n",
       "        vertical-align: top;\n",
       "    }\n",
       "\n",
       "    .dataframe thead th {\n",
       "        text-align: right;\n",
       "    }\n",
       "</style>\n",
       "<table border=\"1\" class=\"dataframe\">\n",
       "  <thead>\n",
       "    <tr style=\"text-align: right;\">\n",
       "      <th></th>\n",
       "      <th>CaseId</th>\n",
       "      <th>InvalidFileNames</th>\n",
       "      <th>ValidFileNames</th>\n",
       "      <th>OcrText</th>\n",
       "    </tr>\n",
       "  </thead>\n",
       "  <tbody>\n",
       "    <tr>\n",
       "      <th>0</th>\n",
       "      <td>003061189006</td>\n",
       "      <td>[]</td>\n",
       "      <td>[003061189006_69176036_Order form_978-1-62414-909-2.pdf]</td>\n",
       "      <td>As difficult behavior her myself help.</td>\n",
       "    </tr>\n",
       "    <tr>\n",
       "      <th>1</th>\n",
       "      <td>003061189067</td>\n",
       "      <td>[]</td>\n",
       "      <td>[003061189067_26173467_Order form_978-1-904782-31-5.pdf]</td>\n",
       "      <td>Present can phone form.</td>\n",
       "    </tr>\n",
       "    <tr>\n",
       "      <th>2</th>\n",
       "      <td>003061189156</td>\n",
       "      <td>[]</td>\n",
       "      <td>[003061189156_47966765_Contract Documents_978-0-317-34803-3.pdf]</td>\n",
       "      <td>Section science difference success wish it wide.</td>\n",
       "    </tr>\n",
       "    <tr>\n",
       "      <th>3</th>\n",
       "      <td>003061189229</td>\n",
       "      <td>[003061189229_69115288_Master contract_978-0-11-692367-7.pdf]</td>\n",
       "      <td>[003061189229_21094545_other documents_978-1-81560-843-8.pdf]</td>\n",
       "      <td>Accept sell leader herself if.</td>\n",
       "    </tr>\n",
       "    <tr>\n",
       "      <th>4</th>\n",
       "      <td>003061189242</td>\n",
       "      <td>[003061189242_91658807_other documents_978-0-7143-5356-2.pdf]</td>\n",
       "      <td>[]</td>\n",
       "      <td></td>\n",
       "    </tr>\n",
       "  </tbody>\n",
       "</table>\n",
       "</div>"
      ],
      "text/plain": [
       "         CaseId  \\\n",
       "0  003061189006   \n",
       "1  003061189067   \n",
       "2  003061189156   \n",
       "3  003061189229   \n",
       "4  003061189242   \n",
       "\n",
       "                                                InvalidFileNames  \\\n",
       "0  []                                                              \n",
       "1  []                                                              \n",
       "2  []                                                              \n",
       "3  [003061189229_69115288_Master contract_978-0-11-692367-7.pdf]   \n",
       "4  [003061189242_91658807_other documents_978-0-7143-5356-2.pdf]   \n",
       "\n",
       "                                                     ValidFileNames  \\\n",
       "0  [003061189006_69176036_Order form_978-1-62414-909-2.pdf]           \n",
       "1  [003061189067_26173467_Order form_978-1-904782-31-5.pdf]           \n",
       "2  [003061189156_47966765_Contract Documents_978-0-317-34803-3.pdf]   \n",
       "3  [003061189229_21094545_other documents_978-1-81560-843-8.pdf]      \n",
       "4  []                                                                 \n",
       "\n",
       "                                            OcrText  \n",
       "0  As difficult behavior her myself help.            \n",
       "1  Present can phone form.                           \n",
       "2  Section science difference success wish it wide.  \n",
       "3  Accept sell leader herself if.                    \n",
       "4                                                    "
      ]
     },
     "execution_count": 306,
     "metadata": {},
     "output_type": "execute_result"
    }
   ],
   "source": [
    "df_final.head()"
   ]
  },
  {
   "cell_type": "code",
   "execution_count": 307,
   "metadata": {},
   "outputs": [],
   "source": [
    "##Adding the label\n",
    "df_final = pd.merge(left=df_final,right=df_label_copy,left_on='CaseId',right_on='CaseId')"
   ]
  },
  {
   "cell_type": "code",
   "execution_count": 308,
   "metadata": {},
   "outputs": [
    {
     "data": {
      "text/html": [
       "<div>\n",
       "<style scoped>\n",
       "    .dataframe tbody tr th:only-of-type {\n",
       "        vertical-align: middle;\n",
       "    }\n",
       "\n",
       "    .dataframe tbody tr th {\n",
       "        vertical-align: top;\n",
       "    }\n",
       "\n",
       "    .dataframe thead th {\n",
       "        text-align: right;\n",
       "    }\n",
       "</style>\n",
       "<table border=\"1\" class=\"dataframe\">\n",
       "  <thead>\n",
       "    <tr style=\"text-align: right;\">\n",
       "      <th></th>\n",
       "      <th>CaseId</th>\n",
       "      <th>InvalidFileNames</th>\n",
       "      <th>ValidFileNames</th>\n",
       "      <th>OcrText</th>\n",
       "      <th>label_1</th>\n",
       "      <th>label_2</th>\n",
       "    </tr>\n",
       "  </thead>\n",
       "  <tbody>\n",
       "    <tr>\n",
       "      <th>1093</th>\n",
       "      <td>003061230659</td>\n",
       "      <td>[003061230659_72651667_Order form_978-0-661-06636-2.pdf]</td>\n",
       "      <td>[]</td>\n",
       "      <td></td>\n",
       "      <td>True</td>\n",
       "      <td>False</td>\n",
       "    </tr>\n",
       "    <tr>\n",
       "      <th>1094</th>\n",
       "      <td>003061230710</td>\n",
       "      <td>[003061230710_80047544_other documents_978-1-02-279791-8.pdf, 003061230710_59256366_Order form_978-1-209-37083-5.pdf]</td>\n",
       "      <td>[]</td>\n",
       "      <td></td>\n",
       "      <td>True</td>\n",
       "      <td>False</td>\n",
       "    </tr>\n",
       "    <tr>\n",
       "      <th>1095</th>\n",
       "      <td>003061230728</td>\n",
       "      <td>[003061230728_79408066_Master contract_978-0-14-891566-4.pdf, 003061230728_56717174_Amendments_978-1-4471-4999-6.pdf]</td>\n",
       "      <td>[003061230728_74076581_Amendments_978-0-14-763189-3.pdf]</td>\n",
       "      <td>None attorney spend tend miss appear.</td>\n",
       "      <td>True</td>\n",
       "      <td>False</td>\n",
       "    </tr>\n",
       "    <tr>\n",
       "      <th>1096</th>\n",
       "      <td>003061230748</td>\n",
       "      <td>[003061230748_65193716_Contract Documents_978-0-9561206-8-7.pdf]</td>\n",
       "      <td>[]</td>\n",
       "      <td></td>\n",
       "      <td>True</td>\n",
       "      <td>False</td>\n",
       "    </tr>\n",
       "    <tr>\n",
       "      <th>1097</th>\n",
       "      <td>003061230757</td>\n",
       "      <td>[003061230757_84690982_other documents_978-0-10-551297-4.pdf]</td>\n",
       "      <td>[003061230757_72990476_Contract Documents_978-1-4943-5720-7.pdf]</td>\n",
       "      <td>Determine go network.</td>\n",
       "      <td>False</td>\n",
       "      <td>False</td>\n",
       "    </tr>\n",
       "  </tbody>\n",
       "</table>\n",
       "</div>"
      ],
      "text/plain": [
       "            CaseId  \\\n",
       "1093  003061230659   \n",
       "1094  003061230710   \n",
       "1095  003061230728   \n",
       "1096  003061230748   \n",
       "1097  003061230757   \n",
       "\n",
       "                                                                                                           InvalidFileNames  \\\n",
       "1093  [003061230659_72651667_Order form_978-0-661-06636-2.pdf]                                                                \n",
       "1094  [003061230710_80047544_other documents_978-1-02-279791-8.pdf, 003061230710_59256366_Order form_978-1-209-37083-5.pdf]   \n",
       "1095  [003061230728_79408066_Master contract_978-0-14-891566-4.pdf, 003061230728_56717174_Amendments_978-1-4471-4999-6.pdf]   \n",
       "1096  [003061230748_65193716_Contract Documents_978-0-9561206-8-7.pdf]                                                        \n",
       "1097  [003061230757_84690982_other documents_978-0-10-551297-4.pdf]                                                           \n",
       "\n",
       "                                                        ValidFileNames  \\\n",
       "1093  []                                                                 \n",
       "1094  []                                                                 \n",
       "1095  [003061230728_74076581_Amendments_978-0-14-763189-3.pdf]           \n",
       "1096  []                                                                 \n",
       "1097  [003061230757_72990476_Contract Documents_978-1-4943-5720-7.pdf]   \n",
       "\n",
       "                                    OcrText label_1 label_2  \n",
       "1093                                         True    False   \n",
       "1094                                         True    False   \n",
       "1095  None attorney spend tend miss appear.  True    False   \n",
       "1096                                         True    False   \n",
       "1097  Determine go network.                  False   False   "
      ]
     },
     "execution_count": 308,
     "metadata": {},
     "output_type": "execute_result"
    }
   ],
   "source": [
    "##Cross checking with given examples\n",
    "df_final.iloc[1093:1098]"
   ]
  },
  {
   "cell_type": "code",
   "execution_count": 309,
   "metadata": {},
   "outputs": [],
   "source": [
    "##Saving file to gzip\n",
    "\n",
    "df_final.to_csv('df_final.gzip',compression='gzip')"
   ]
  }
 ],
 "metadata": {
  "kernelspec": {
   "display_name": "Python 3",
   "language": "python",
   "name": "python3"
  },
  "language_info": {
   "codemirror_mode": {
    "name": "ipython",
    "version": 3
   },
   "file_extension": ".py",
   "mimetype": "text/x-python",
   "name": "python",
   "nbconvert_exporter": "python",
   "pygments_lexer": "ipython3",
   "version": "3.8.5"
  }
 },
 "nbformat": 4,
 "nbformat_minor": 4
}
